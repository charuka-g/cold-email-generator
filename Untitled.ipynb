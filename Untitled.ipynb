{
 "cells": [
  {
   "cell_type": "code",
   "execution_count": null,
   "id": "79e42925-e4ee-4319-b739-87b3e7503896",
   "metadata": {},
   "outputs": [],
   "source": [
    "from langchain_groq import ChatGroq"
   ]
  },
  {
   "cell_type": "code",
   "execution_count": 1,
   "id": "7ac3fa64-0a46-420e-b17c-72f0e914a1fe",
   "metadata": {},
   "outputs": [],
   "source": [
    "\n",
    "llm = ChatGroq(\n",
    "    model=\"mixtral-8x7b-32768\",\n",
    "    temperature=0,\n",
    "    groq_api_key='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',\n",
    "    model_name ='llama-3.1-70-versatile'\n",
    "    # other params...\n",
    ")"
   ]
  },
  {
   "cell_type": "code",
   "execution_count": 3,
   "id": "72f5c354-28db-4ae3-88ba-e0fa16ae9646",
   "metadata": {},
   "outputs": [],
   "source": [
    "response = llm.invoke(\"The first person to land on moon was...\")"
   ]
  },
  {
   "cell_type": "code",
   "execution_count": 4,
   "id": "1a906f21-6bbe-4c27-b8f9-d28098397f8a",
   "metadata": {},
   "outputs": [
    {
     "name": "stdout",
     "output_type": "stream",
     "text": [
      "content='Neil Armstrong, an American astronaut and aeronautical engineer, was the first person to land on the moon. He took his first steps on the lunar surface on July 20, 1969, while serving as the spacecraft commander for the Apollo 11 mission, which was the spaceflight that first landed humans on the Moon. His famous words, \"That\\'s one small step for man, one giant leap for mankind,\" were spoken as he stepped onto the lunar surface, and they have since become one of the most famous quotes in history.' additional_kwargs={} response_metadata={'token_usage': {'completion_tokens': 126, 'prompt_tokens': 17, 'total_tokens': 143, 'completion_time': 0.199409942, 'prompt_time': 0.002166514, 'queue_time': 0.028043494, 'total_time': 0.201576456}, 'model_name': 'mixtral-8x7b-32768', 'system_fingerprint': 'fp_c5f20b5bb1', 'finish_reason': 'stop', 'logprobs': None} id='run-2ec15cb8-a61c-4c24-b0f8-a2028b3119b6-0' usage_metadata={'input_tokens': 17, 'output_tokens': 126, 'total_tokens': 143}\n"
     ]
    }
   ],
   "source": [
    "print(response)"
   ]
  },
  {
   "cell_type": "code",
   "execution_count": null,
   "id": "07e0edfb-849f-4a3e-aedd-1151bd904b65",
   "metadata": {},
   "outputs": [],
   "source": []
  },
  {
   "cell_type": "code",
   "execution_count": 5,
   "id": "9bcf3b9b-7a1c-41e4-ad3e-cd534ee8e748",
   "metadata": {},
   "outputs": [],
   "source": [
    "import chromadb\n",
    "\n",
    "client = chromadb.Client()\n",
    "collection = client.create_collection(name=\"my_collection\")"
   ]
  },
  {
   "cell_type": "code",
   "execution_count": null,
   "id": "fcdecd96-ac6b-4c00-ab63-129f6c72007d",
   "metadata": {},
   "outputs": [],
   "source": []
  }
 ],
 "metadata": {
  "kernelspec": {
   "display_name": "Python 3 (ipykernel)",
   "language": "python",
   "name": "python3"
  },
  "language_info": {
   "codemirror_mode": {
    "name": "ipython",
    "version": 3
   },
   "file_extension": ".py",
   "mimetype": "text/x-python",
   "name": "python",
   "nbconvert_exporter": "python",
   "pygments_lexer": "ipython3",
   "version": "3.12.8"
  }
 },
 "nbformat": 4,
 "nbformat_minor": 5
}
